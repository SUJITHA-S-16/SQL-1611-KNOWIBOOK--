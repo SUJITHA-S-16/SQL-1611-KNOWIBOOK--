{
  "nbformat": 4,
  "nbformat_minor": 0,
  "metadata": {
    "colab": {
      "provenance": []
    },
    "kernelspec": {
      "name": "python3",
      "display_name": "Python 3"
    },
    "language_info": {
      "name": "python"
    }
  },
  "cells": [
    {
      "cell_type": "markdown",
      "source": [
        "# SQL\n",
        "\n",
        "---\n",
        "\n"
      ],
      "metadata": {
        "id": "94GTkb9Ju7_O"
      }
    },
    {
      "cell_type": "markdown",
      "source": [
        "SQL is a standard language for ***storing, manipulating and retrieving data*** in databases.\n",
        "\n",
        "SQL=Structured Query Language"
      ],
      "metadata": {
        "id": "PDbTVmETvIPp"
      }
    },
    {
      "cell_type": "markdown",
      "source": [
        "###RELATIONAL DATABASE"
      ],
      "metadata": {
        "id": "I6ABPKvUvcRM"
      }
    },
    {
      "cell_type": "markdown",
      "source": [
        "A relational database is a ***collection of information*** that organizes data in predefined relationships where data is ***stored in one or more tables*** (or \"relations\") of columns and rows, making it easy to see and understand how different data structures relate to each other.\n",
        "\n",
        "###DBMS\n",
        "\n",
        "DBMS stands for Database Management System, and RDBMS is the acronym for the Relational Database Management system. <b><i>In DBMS, the data is stored as a file, whereas in RDBMS, data is stored in the form of tables.</i></b>"
      ],
      "metadata": {
        "id": "mBmESGA9vlC4"
      }
    },
    {
      "cell_type": "markdown",
      "source": [
        "###ADVANTAGES OF RDBMS\n",
        "\n",
        "***1.Ease of Use***\n",
        "\n",
        "This is one of the biggest advantages of a relational database; RDBMS has a user-friendly table format, with data being organized according to a natural structure. This also makes it easy to access, and manipulate, and it’s easy to locate entries that match.\n",
        "\n",
        "***2.Network Access***\n",
        "\n",
        "A software program in the RDBMS is designed specially to catch requests sent over a network, facilitating client-database communication. Users need not log in for accessing or using the database, affording them greater convenience.\n",
        "\n",
        "This feature also makes it possible for developers to build web apps and desktop tools that make database interaction possible.\n",
        "\n",
        "***3.Language***\n",
        "\n",
        "RDBMS supports SQL, a standard and familiar language; it has a simple syntax, and uses English phrases and keywords, making it easy to learn and understand. RDBMS also has the capability to insert non-SQL database-centric keywords, features, and functions.\n",
        "\n",
        "***4.Performance***\n",
        "\n",
        "RDBMS is not intrinsically a fast-performing database, but with the database design, there are several optimizations embedded into it, which actually enhances performance. This eventually translates into fast performance for all data sets and apps.\n",
        "\n",
        "***5.Maintenance***\n",
        "\n",
        "It is easier to maintain RDBMS as the tech support team or database administrators can control, test, maintain, and perform backup for the databases they have within their main system. The functions are automated via inbuilt automation tools on the operating system in the RDBMS.\n",
        "\n",
        "***6.Multi-Person Access***\n",
        "\n",
        "We have already seen that multiple users can access the database at the same time. During data change or updating, users can leverage the inbuilt functionality of transaction management and locking for data access.\n",
        "\n",
        "This way, the system is protected from crashing due to multiple users working on the data, and users are not allowed to partially modify data.\n",
        "\n",
        "***7.Prevents Data Redundancy***\n",
        "\n",
        "This is one of the most important RDBMS advantages. Data redundancy is prevented as tables with specific data have relations among themselves, and the necessary data is retrieved from prior tables.\n",
        "\n",
        "***8.Privileges and Data Security***\n",
        "\n",
        "Access to the database is controlled and subject to authentication by the database admin, who has the power to grant or reject access to users. This increases the security of the database.\n",
        "\n",
        "An RDBMS has features for privilege control and authorization, which means that the admin can reject database access requests as we saw earlier. Permissions are granted after verifying the specific database activities the users intend to carry out. The IP address of the remote client is also considered, and in combination with user authorization, it controls the access to selected systems."
      ],
      "metadata": {
        "id": "2QTQ0dDxwQYl"
      }
    },
    {
      "cell_type": "markdown",
      "source": [
        "###DISADVANTAGES OF RDBMS###\n",
        "\n",
        "***1.Cost***\n",
        "\n",
        "Setting up and maintaining a database is a pretty expensive affair, and hence, is one of the biggest disadvantages of an RDBMS.\n",
        "\n",
        "The specific software needed to create and configure a relational database costs a pretty packet. Updating all the information to get the program up and running can also be difficult, and especially so if your organization is a large one with a complex database.\n",
        "\n",
        "In such cases, getting help externally from experienced programmers may become necessary, to build an RDBMS by implementing SQL. You will also need to have an expert RDBMS administrator for managing and controlling the database.\n",
        "\n",
        "***2.Lack of Speed***\n",
        "\n",
        "Compared to other types of databases, RDBMS extracts results pretty slowly, and therefore, performance is much slower. However, it is not among the biggest disadvantages of RDBMS, as its ease of use and rich functionality trump the speed factor.\n",
        "\n",
        "***3.Memory Space***\n",
        "\n",
        "As an RDBMS stores data in tables that have rows and columns, it occupies a great deal of physical memory. This also means additional cost to have more memory and is a significant drawback."
      ],
      "metadata": {
        "id": "cjLe7aUOvhju"
      }
    },
    {
      "cell_type": "markdown",
      "source": [
        "###SQL KEYWORDS"
      ],
      "metadata": {
        "id": "ASVA68U9vFf5"
      }
    },
    {
      "cell_type": "markdown",
      "source": [
        "***1.ADD***\n",
        "\n",
        "The ADD command is used to **add a column** in an existing table."
      ],
      "metadata": {
        "id": "-bs8wHgFUSeK"
      }
    },
    {
      "cell_type": "code",
      "source": [
        "ALTER TABLE Customers\n",
        "ADD Email varchar(255);"
      ],
      "metadata": {
        "id": "0769pKrZU7Sw"
      },
      "execution_count": null,
      "outputs": []
    },
    {
      "cell_type": "markdown",
      "source": [
        "\n",
        "\n",
        "---\n",
        "\n"
      ],
      "metadata": {
        "id": "ltSbDXpeVCev"
      }
    },
    {
      "cell_type": "markdown",
      "source": [
        "***2.ADD CONSTRAINT***\n",
        "\n",
        "The ADD CONSTRAINT command is used to **create a constraint after a table is already created.**"
      ],
      "metadata": {
        "id": "z75SBkNLVET7"
      }
    },
    {
      "cell_type": "code",
      "source": [
        "ALTER TABLE Persons\n",
        "ADD CONSTRAINT PK_Person PRIMARY KEY (ID,LastName);"
      ],
      "metadata": {
        "id": "YdpMPIC4VTYS"
      },
      "execution_count": null,
      "outputs": []
    },
    {
      "cell_type": "markdown",
      "source": [
        "\n",
        "\n",
        "---\n",
        "\n"
      ],
      "metadata": {
        "id": "yeWqIVBZVdsJ"
      }
    },
    {
      "cell_type": "markdown",
      "source": [
        "***3.ALL***\n",
        "\n",
        "The ALL command **returns true** if all of the subquery values meet the condition."
      ],
      "metadata": {
        "id": "HcRUSmzZVfGV"
      }
    },
    {
      "cell_type": "code",
      "source": [
        "SELECT ProductName\n",
        "FROM Products\n",
        "WHERE ProductID = ALL (SELECT ProductID FROM OrderDetails WHERE Quantity = 10);"
      ],
      "metadata": {
        "id": "pBr74tkgVrr_"
      },
      "execution_count": null,
      "outputs": []
    },
    {
      "cell_type": "markdown",
      "source": [
        "\n",
        "\n",
        "---\n",
        "\n"
      ],
      "metadata": {
        "id": "oQ_uxZ01VyPk"
      }
    },
    {
      "cell_type": "markdown",
      "source": [
        "***4.ALTER TABLE***\n",
        "\n",
        "The ALTER TABLE command **adds, deletes, or modifies columns in a table.**\n",
        "\n",
        "The ALTER TABLE command also **adds and deletes various constraints in a table.**"
      ],
      "metadata": {
        "id": "yf4SF-dtVz1Q"
      }
    },
    {
      "cell_type": "code",
      "source": [
        "ALTER TABLE Customers\n",
        "ADD Email varchar(255);"
      ],
      "metadata": {
        "id": "s0atCCVuWEyt"
      },
      "execution_count": null,
      "outputs": []
    },
    {
      "cell_type": "markdown",
      "source": [
        "\n",
        "\n",
        "---\n",
        "\n"
      ],
      "metadata": {
        "id": "qdwMjTPRWOMY"
      }
    },
    {
      "cell_type": "markdown",
      "source": [
        "***5.ALTER COLUMN***\n",
        "\n",
        "The ALTER COLUMN command is used to **change the data type of a column in a table.**"
      ],
      "metadata": {
        "id": "livP_2NfWPQ_"
      }
    },
    {
      "cell_type": "code",
      "source": [
        "ALTER TABLE Employees\n",
        "ALTER COLUMN BirthDate year;"
      ],
      "metadata": {
        "id": "1KPWJ2t6Wbhf"
      },
      "execution_count": null,
      "outputs": []
    },
    {
      "cell_type": "markdown",
      "source": [
        "\n",
        "\n",
        "---\n",
        "\n"
      ],
      "metadata": {
        "id": "1vn8y40KWeoc"
      }
    },
    {
      "cell_type": "markdown",
      "source": [
        "***6.ALTER TABLE***\n",
        "\n",
        "The ALTER TABLE command **adds, deletes, or modifies columns in a table.**\n",
        "\n",
        "The ALTER TABLE command also **adds and deletes various constraints in a table.**"
      ],
      "metadata": {
        "id": "CDjmxw7vWf0k"
      }
    },
    {
      "cell_type": "code",
      "source": [
        "ALTER TABLE Customers\n",
        "DROP COLUMN Email;"
      ],
      "metadata": {
        "id": "afbLWAigWx-L"
      },
      "execution_count": null,
      "outputs": []
    },
    {
      "cell_type": "markdown",
      "source": [
        "\n",
        "\n",
        "---\n",
        "\n"
      ],
      "metadata": {
        "id": "hNDl7JvvW2Hs"
      }
    },
    {
      "cell_type": "markdown",
      "source": [
        "***7.AND***\n",
        "\n",
        "The AND command is used with **WHERE to only include rows where both conditions is true**"
      ],
      "metadata": {
        "id": "_2fnESzSW3Pb"
      }
    },
    {
      "cell_type": "code",
      "source": [
        "SELECT * FROM Customers\n",
        "WHERE Country='Germany' AND City='Berlin';"
      ],
      "metadata": {
        "id": "FGsrmVuoXDIq"
      },
      "execution_count": null,
      "outputs": []
    },
    {
      "cell_type": "markdown",
      "source": [
        "\n",
        "\n",
        "---\n",
        "\n"
      ],
      "metadata": {
        "id": "uko1zSz_XHJs"
      }
    },
    {
      "cell_type": "markdown",
      "source": [
        "***8.ANY***\n",
        "\n",
        "The ANY command **returns true if any of the subquery values meet the condition.**"
      ],
      "metadata": {
        "id": "XiRdx2tiXIaQ"
      }
    },
    {
      "cell_type": "code",
      "source": [
        "SELECT ProductName\n",
        "FROM Products\n",
        "WHERE ProductID = ANY (SELECT ProductID FROM OrderDetails WHERE Quantity = 10);"
      ],
      "metadata": {
        "id": "F9IAa9SiXUts"
      },
      "execution_count": null,
      "outputs": []
    },
    {
      "cell_type": "markdown",
      "source": [
        "\n",
        "\n",
        "---\n",
        "\n"
      ],
      "metadata": {
        "id": "5c0R_cvUXZBR"
      }
    },
    {
      "cell_type": "markdown",
      "source": [
        "***9.AS***\n",
        "\n",
        "The AS command is used to **rename a column or table with an alias.**\n",
        "\n",
        "An alias **only exists for the duration of the query.**"
      ],
      "metadata": {
        "id": "PnpPUS5OXbg-"
      }
    },
    {
      "cell_type": "code",
      "source": [
        "SELECT CustomerID AS ID, CustomerName AS Customer\n",
        "FROM Customers;"
      ],
      "metadata": {
        "id": "ka8Uze5nXugC"
      },
      "execution_count": null,
      "outputs": []
    },
    {
      "cell_type": "markdown",
      "source": [
        "\n",
        "\n",
        "---\n",
        "\n"
      ],
      "metadata": {
        "id": "ChowbHijXvhf"
      }
    },
    {
      "cell_type": "markdown",
      "source": [
        "***10.ASC***\n",
        "\n",
        "The ASC command is used to **sort the data returned in ascending order.**"
      ],
      "metadata": {
        "id": "bPwkzyVuXwwV"
      }
    },
    {
      "cell_type": "code",
      "source": [
        "SELECT * FROM Customers\n",
        "ORDER BY CustomerName ASC;"
      ],
      "metadata": {
        "id": "4Fo4RCAOYWye"
      },
      "execution_count": null,
      "outputs": []
    },
    {
      "cell_type": "markdown",
      "source": [
        "\n",
        "\n",
        "---\n",
        "\n"
      ],
      "metadata": {
        "id": "WjEegjnJYac2"
      }
    },
    {
      "cell_type": "markdown",
      "source": [
        "***11.BETWEEN***\n",
        "\n",
        "The BETWEEN command is used to **select values within a given range**. The values can be numbers, text, or dates.\n",
        "\n",
        "The BETWEEN command is inclusive: **begin and end values are included.**"
      ],
      "metadata": {
        "id": "_Lpm3_mfYbkC"
      }
    },
    {
      "cell_type": "code",
      "source": [
        "SELECT * FROM Products\n",
        "WHERE Price BETWEEN 10 AND 20;"
      ],
      "metadata": {
        "id": "oFzZv_JOYwOv"
      },
      "execution_count": null,
      "outputs": []
    },
    {
      "cell_type": "markdown",
      "source": [
        "\n",
        "\n",
        "---\n",
        "\n"
      ],
      "metadata": {
        "id": "rhLCvFX3YxCv"
      }
    },
    {
      "cell_type": "markdown",
      "source": [
        "***12.CASE***\n",
        "\n",
        "The CASE command is used is to **create different output based on conditions.**"
      ],
      "metadata": {
        "id": "iLZCkmEYYyMr"
      }
    },
    {
      "cell_type": "code",
      "source": [
        "SELECT OrderID, Quantity,\n",
        "CASE\n",
        "    WHEN Quantity > 30 THEN 'The quantity is greater than 30'\n",
        "    WHEN Quantity = 30 THEN 'The quantity is 30'\n",
        "    ELSE 'The quantity is under 30'\n",
        "END\n",
        "FROM OrderDetails;"
      ],
      "metadata": {
        "id": "u7SXsFMPY8Ot"
      },
      "execution_count": null,
      "outputs": []
    },
    {
      "cell_type": "markdown",
      "source": [
        "\n",
        "\n",
        "---\n",
        "\n"
      ],
      "metadata": {
        "id": "flhaTtveZChk"
      }
    },
    {
      "cell_type": "markdown",
      "source": [
        "***13.DROP CONSTRAINT***\n",
        "\n",
        "The DROP CONSTRAINT command is used to **delete a UNIQUE, PRIMARY KEY, FOREIGN KEY, or CHECK constraint.**"
      ],
      "metadata": {
        "id": "uKmJ5imbZDoo"
      }
    },
    {
      "cell_type": "code",
      "source": [
        "ALTER TABLE Persons\n",
        "DROP CONSTRAINT UC_Person;"
      ],
      "metadata": {
        "id": "NfN-xyoVZdk_"
      },
      "execution_count": null,
      "outputs": []
    },
    {
      "cell_type": "markdown",
      "source": [
        "\n",
        "\n",
        "---\n",
        "\n"
      ],
      "metadata": {
        "id": "1A11fd24Zgud"
      }
    },
    {
      "cell_type": "markdown",
      "source": [
        "***14.CREATE DATABASE***\n",
        "\n",
        "The CREATE DATABASE command is used is to **create a new SQL database.**"
      ],
      "metadata": {
        "id": "C2LPo3WDZiLU"
      }
    },
    {
      "cell_type": "code",
      "source": [
        "CREATE DATABASE testDB;"
      ],
      "metadata": {
        "id": "qMX5px6lZtFz"
      },
      "execution_count": null,
      "outputs": []
    },
    {
      "cell_type": "markdown",
      "source": [
        "\n",
        "\n",
        "---\n",
        "\n"
      ],
      "metadata": {
        "id": "HnOUMMipZxxw"
      }
    },
    {
      "cell_type": "markdown",
      "source": [
        "***15.CREATE TABLE***\n",
        "\n",
        "The CREATE TABLE command **creates a new table** in the database."
      ],
      "metadata": {
        "id": "Yd_jf9xAZy_s"
      }
    },
    {
      "cell_type": "code",
      "source": [
        "CREATE TABLE Persons (\n",
        "    PersonID int,\n",
        "    LastName varchar(255),\n",
        "    FirstName varchar(255),\n",
        "    Address varchar(255),\n",
        "    City varchar(255)\n",
        ");\n"
      ],
      "metadata": {
        "id": "sQPDutuQZ9ju"
      },
      "execution_count": null,
      "outputs": []
    },
    {
      "cell_type": "markdown",
      "source": [
        "\n",
        "\n",
        "---\n",
        "\n"
      ],
      "metadata": {
        "id": "fVC3JSL1aA0R"
      }
    },
    {
      "cell_type": "markdown",
      "source": [
        "***16.CREATE TABLE Using Another Table***\n",
        "\n"
      ],
      "metadata": {
        "id": "sNNtxJ_eaCQo"
      }
    },
    {
      "cell_type": "code",
      "source": [
        "CREATE TABLE TestTable AS\n",
        "SELECT customername, contactname\n",
        "FROM customers;"
      ],
      "metadata": {
        "id": "16r4ct8vamQe"
      },
      "execution_count": null,
      "outputs": []
    },
    {
      "cell_type": "markdown",
      "source": [
        "\n",
        "\n",
        "---\n",
        "\n"
      ],
      "metadata": {
        "id": "cAhPWFT9anN6"
      }
    },
    {
      "cell_type": "markdown",
      "source": [
        "***17.CREATE PROCEDURE***\n",
        "\n",
        "The CREATE PROCEDURE command is used to **create a stored procedure.**\n",
        "\n",
        "A stored procedure is a **prepared SQL code that you can save, so the code can be reused over and over again.**"
      ],
      "metadata": {
        "id": "SmhgsmcBaoQn"
      }
    },
    {
      "cell_type": "code",
      "source": [
        "CREATE PROCEDURE SelectAllCustomers\n",
        "AS\n",
        "SELECT * FROM Customers\n",
        "GO;\n",
        "\n",
        "EXEC SelectAllCustomers;"
      ],
      "metadata": {
        "id": "01ySNClXa9Xa"
      },
      "execution_count": null,
      "outputs": []
    },
    {
      "cell_type": "markdown",
      "source": [
        "\n",
        "\n",
        "---\n",
        "\n"
      ],
      "metadata": {
        "id": "Lv2mj6vTbE6Z"
      }
    },
    {
      "cell_type": "markdown",
      "source": [
        "***18.CREATE INDEX***\n",
        "\n",
        "The CREATE INDEX command is used to **create indexes in tables (allows duplicate values).**\n",
        "\n",
        "Indexes are used to **retrieve data from the database very fast.** The users cannot see the indexes, they are just used to speed up searches/queries."
      ],
      "metadata": {
        "id": "Gc6H9hA6bGB5"
      }
    },
    {
      "cell_type": "code",
      "source": [
        "CREATE INDEX idx_lastname\n",
        "ON Persons (LastName);"
      ],
      "metadata": {
        "id": "vKpGkkOobV0V"
      },
      "execution_count": null,
      "outputs": []
    },
    {
      "cell_type": "markdown",
      "source": [
        "\n",
        "\n",
        "---\n",
        "\n"
      ],
      "metadata": {
        "id": "dghV4huKbZtU"
      }
    },
    {
      "cell_type": "markdown",
      "source": [
        "***19.DROP DATABASE***\n",
        "\n",
        "The DROP DATABASE command is used is to **delete an existing SQL database.**"
      ],
      "metadata": {
        "id": "3HxCejpobbP2"
      }
    },
    {
      "cell_type": "code",
      "source": [
        "DROP DATABASE testDB;"
      ],
      "metadata": {
        "id": "2swlyG2mbo02"
      },
      "execution_count": null,
      "outputs": []
    },
    {
      "cell_type": "markdown",
      "source": [
        "\n",
        "\n",
        "---\n",
        "\n"
      ],
      "metadata": {
        "id": "mJx5FBHibuVK"
      }
    },
    {
      "cell_type": "markdown",
      "source": [
        "***20.DEFAULT***\n",
        "\n",
        "The DEFAULT constraint provides a **default value for a column.**\n",
        "\n",
        "The default value will be added to all new records if no other value is specified."
      ],
      "metadata": {
        "id": "cAodPPkpbvxa"
      }
    },
    {
      "cell_type": "code",
      "source": [
        "CREATE TABLE Persons (\n",
        "    City varchar(255) DEFAULT 'Sandnes'\n",
        ");"
      ],
      "metadata": {
        "id": "bNhG-rZib-FN"
      },
      "execution_count": null,
      "outputs": []
    },
    {
      "cell_type": "markdown",
      "source": [
        "\n",
        "\n",
        "---\n",
        "\n"
      ],
      "metadata": {
        "id": "NCi4YdwQcBP7"
      }
    },
    {
      "cell_type": "markdown",
      "source": [
        "***21.DELETE***\n",
        "\n",
        "The DELETE command is used to **delete existing records** in a table."
      ],
      "metadata": {
        "id": "Q44_pFS9cCiJ"
      }
    },
    {
      "cell_type": "code",
      "source": [
        "DELETE FROM Customers WHERE CustomerName='Alfreds Futterkiste';"
      ],
      "metadata": {
        "id": "Qu99hP0Dcj6C"
      },
      "execution_count": null,
      "outputs": []
    },
    {
      "cell_type": "markdown",
      "source": [
        "\n",
        "\n",
        "---\n",
        "\n"
      ],
      "metadata": {
        "id": "wcORaPracnbZ"
      }
    },
    {
      "cell_type": "markdown",
      "source": [
        "***22.DESC***\n",
        "\n",
        "The DESC command is used to sort the data returned in **descending order.**"
      ],
      "metadata": {
        "id": "7geCC_C-corE"
      }
    },
    {
      "cell_type": "code",
      "source": [
        "SELECT * FROM Customers\n",
        "ORDER BY CustomerName DESC;"
      ],
      "metadata": {
        "id": "_R-xzV_Acxw4"
      },
      "execution_count": null,
      "outputs": []
    },
    {
      "cell_type": "markdown",
      "source": [
        "\n",
        "\n",
        "---\n",
        "\n"
      ],
      "metadata": {
        "id": "NCRLNF19dJTj"
      }
    },
    {
      "cell_type": "markdown",
      "source": [
        "***23.SELECT DISTINCT***\n",
        "\n",
        "The SELECT DISTINCT command returns **only distinct (different) values in the result set.**"
      ],
      "metadata": {
        "id": "JgqwKnYMc1NG"
      }
    },
    {
      "cell_type": "code",
      "source": [
        "SELECT DISTINCT Country FROM Customers;"
      ],
      "metadata": {
        "id": "6XJ72j5wdETS"
      },
      "execution_count": null,
      "outputs": []
    },
    {
      "cell_type": "markdown",
      "source": [
        "\n",
        "\n",
        "---\n",
        "\n"
      ],
      "metadata": {
        "id": "VPm6j3H9dIKZ"
      }
    },
    {
      "cell_type": "markdown",
      "source": [
        "***24.DROP COLUMN***\n",
        "\n",
        "The DROP COLUMN command is used to **delete a column in an existing table.**"
      ],
      "metadata": {
        "id": "f4WaJ50udNdJ"
      }
    },
    {
      "cell_type": "code",
      "source": [
        "ALTER TABLE Customers\n",
        "DROP COLUMN ContactName;"
      ],
      "metadata": {
        "id": "HDtjF8rvdq_H"
      },
      "execution_count": null,
      "outputs": []
    },
    {
      "cell_type": "markdown",
      "source": [
        "\n",
        "\n",
        "---\n",
        "\n"
      ],
      "metadata": {
        "id": "Rmtd3PneduRL"
      }
    },
    {
      "cell_type": "markdown",
      "source": [
        "***25.DROP TABLE***\n",
        "\n",
        "The DROP TABLE command **deletes a table in the database.**"
      ],
      "metadata": {
        "id": "1DIN1shydvWa"
      }
    },
    {
      "cell_type": "code",
      "source": [
        "DROP TABLE Shippers;"
      ],
      "metadata": {
        "id": "-llK6rP2eOIe"
      },
      "execution_count": null,
      "outputs": []
    },
    {
      "cell_type": "markdown",
      "source": [
        "\n",
        "\n",
        "---\n",
        "\n"
      ],
      "metadata": {
        "id": "STEaBjw5eQ46"
      }
    },
    {
      "cell_type": "markdown",
      "source": [
        "***26.DROP INDEX***\n",
        "\n",
        "The DROP INDEX command is used to **delete an index in a table.**"
      ],
      "metadata": {
        "id": "0FKMexT8eSDp"
      }
    },
    {
      "cell_type": "code",
      "source": [
        "DROP INDEX index_name ON table_name;"
      ],
      "metadata": {
        "id": "D4ikRqn2edXW"
      },
      "execution_count": null,
      "outputs": []
    },
    {
      "cell_type": "markdown",
      "source": [
        "\n",
        "\n",
        "---\n",
        "\n"
      ],
      "metadata": {
        "id": "p6zXwCf0egrY"
      }
    },
    {
      "cell_type": "markdown",
      "source": [
        "###DDL###"
      ],
      "metadata": {
        "id": "0fuiEA6MPchi"
      }
    },
    {
      "cell_type": "markdown",
      "source": [
        "DDL – ***Data Definition Language***"
      ],
      "metadata": {
        "id": "nVkHztjlP89C"
      }
    },
    {
      "cell_type": "markdown",
      "source": [
        "Data Definition Language actually consists of the SQL commands that can be used ***to define the database schema.*** It simply deals with descriptions of the database schema and is used to create and modify the structure of database objects in the database.\n",
        "\n",
        "***1.CREATE:*** This command is used to create the database or its objects (like table, index, function, views, store procedure, and triggers).\n",
        "\n",
        "***2.DROP:*** This command is used to delete objects from the database.\n",
        "\n",
        "***3.ALTER:*** This is used to alter the structure of the database.\n",
        "\n",
        "***4.TRUNCATE:*** This is used to remove all records from a table, including all spaces allocated for the records are removed.\n",
        "\n",
        "***5.COMMENT:*** This is used to add comments to the data dictionary.\n",
        "\n",
        "***6.RENAME:*** This is used to rename an object existing in the database."
      ],
      "metadata": {
        "id": "2lDtFbI9QG5F"
      }
    },
    {
      "cell_type": "markdown",
      "source": [
        "***1.CREATE***\n",
        "\n",
        "A Table is a combination of rows and columns. For creating a table we have to define the structure of a table by adding names to columns and providing data type and size of data to be stored in columns.\n",
        "\n",
        "Syntax: `CREATE table table_name`"
      ],
      "metadata": {
        "id": "M1lk1MqNRFv3"
      }
    },
    {
      "cell_type": "code",
      "source": [
        "CREATE TABLE Customer(\n",
        "    CustomerID INT PRIMARY KEY,\n",
        "    CustomerName VARCHAR(50),\n",
        "    LastName VARCHAR(50),\n",
        "    Country VARCHAR(50),\n",
        "    Age int(2),\n",
        "  Phone int(10)\n",
        ");"
      ],
      "metadata": {
        "id": "_SJVfoveRrog"
      },
      "execution_count": null,
      "outputs": []
    },
    {
      "cell_type": "markdown",
      "source": [
        "\n",
        "\n",
        "---\n",
        "\n"
      ],
      "metadata": {
        "id": "5v7QSJsBRyDm"
      }
    },
    {
      "cell_type": "markdown",
      "source": [
        "***2.DROP***\n",
        "\n",
        "DROP is used to ***delete a whole database or just a table.***\n",
        "\n",
        "Syntax: `DROP object object_name ;`\n",
        "\n",
        "Syntax: `DROP DATABASE database_name;`"
      ],
      "metadata": {
        "id": "Sx37i5htR0Jr"
      }
    },
    {
      "cell_type": "markdown",
      "source": [
        "\n",
        "\n",
        "---\n",
        "\n"
      ],
      "metadata": {
        "id": "NOtGDECVSxOJ"
      }
    },
    {
      "cell_type": "markdown",
      "source": [
        "***3.TRUNCATE***\n",
        "\n",
        "The major difference between TRUNCATE and DROP is that truncate is used to ***delete the data inside the table not the whole table.***\n",
        "\n",
        "Syntax: `TRUNCATE TABLE  table_name;`"
      ],
      "metadata": {
        "id": "0ZktF2QuSybZ"
      }
    },
    {
      "cell_type": "markdown",
      "source": [
        "\n",
        "\n",
        "---\n",
        "\n"
      ],
      "metadata": {
        "id": "D38OfPjrTMeY"
      }
    },
    {
      "cell_type": "markdown",
      "source": [
        "***4.ALTER***\n",
        "\n",
        "The ALTER TABLE ***command adds, deletes, or modifies columns in a table.***\n",
        "\n",
        "The ALTER TABLE command also ***adds and deletes various constraints in a table.***"
      ],
      "metadata": {
        "id": "GSwspKd0TNn-"
      }
    },
    {
      "cell_type": "code",
      "source": [
        "ALTER TABLE Customers\n",
        "ADD Email varchar(255);"
      ],
      "metadata": {
        "id": "FdMh0LfyT73m"
      },
      "execution_count": null,
      "outputs": []
    },
    {
      "cell_type": "markdown",
      "source": [
        "\n",
        "\n",
        "---\n",
        "\n"
      ],
      "metadata": {
        "id": "-vlJZ7bUUCzT"
      }
    },
    {
      "cell_type": "markdown",
      "source": [
        "###DML###\n",
        "\n",
        " DML-Data Manipulation Language\n",
        "\n",
        " The SQL commands that deal with the manipulation of data present in the database belong to DML or Data Manipulation Language and this includes most of the SQL statements. It is the component of the SQL statement that controls access to data and to the database. Basically, DCL statements are grouped with DML statements.\n",
        "\n",
        "List of DML commands:\n",
        "\n",
        "***1.INSERT:*** It is used to insert data into a table.\n",
        "\n",
        "***2.UPDATE:*** It is used to update existing data within a table.\n",
        "\n",
        "***3.DELETE:*** It is used to delete records from a database table.\n",
        "\n",
        "***4.LOCK:*** Table control concurrency.\n",
        "\n",
        "***5.CALL:*** Call a PL/SQL or JAVA subprogram.\n",
        "\n",
        "***6.EXPLAIN PLAN:*** It describes the access path to data."
      ],
      "metadata": {
        "id": "TxkvvG3nUECy"
      }
    },
    {
      "cell_type": "markdown",
      "source": [
        "***1.INSERT***\n",
        "\n",
        "The INSERT INTO statement of SQL is used to ***insert a new row/record in a table.*** There are two ways of using the SQL INSERT INTO statement for inserting rows."
      ],
      "metadata": {
        "id": "KCHpKVgjVOCF"
      }
    },
    {
      "cell_type": "code",
      "source": [
        "INSERT INTO table_name VALUES (value1, value2, value3);\n",
        "\n",
        "table_name: name of the table. value1, value2"
      ],
      "metadata": {
        "id": "g2UqZuiZVKBh"
      },
      "execution_count": null,
      "outputs": []
    },
    {
      "cell_type": "markdown",
      "source": [
        "\n",
        "\n",
        "---\n",
        "\n"
      ],
      "metadata": {
        "id": "GaInHWk1VW-m"
      }
    },
    {
      "cell_type": "markdown",
      "source": [
        "***2.UPDATE***\n",
        "\n",
        "The UPDATE statement in SQL is used to update the data of an existing table in the database. We can update single columns as well as multiple columns using the UPDATE statement as per our requirement.\n",
        "\n",
        "In a very simple way, we can say that SQL commands(UPDATE and DELETE) are used to change the data that is already in the database. The SQL DELETE command uses a WHERE clause.\n",
        "\n",
        "Syntax: `UPDATE table_name SET column1 = value1, column2 = value2,… `"
      ],
      "metadata": {
        "id": "kj1AnsCSVZNI"
      }
    },
    {
      "cell_type": "markdown",
      "source": [
        "***UPDATE:*** Command is used to update the column value in the table.\n",
        "\n",
        "***WHERE:*** Specifies the condition which we want to implement on the table.\n",
        "\n",
        "Syntax: `WHERE condition;\n",
        "table_name: name of the table\n",
        "column1: name of first , second, third column….\n",
        "value1: new value for first, second, third column….\n",
        "condition: condition to select the rows for which the\n",
        "values of columns needs to be updated.`"
      ],
      "metadata": {
        "id": "4Xv0mDClV2U3"
      }
    },
    {
      "cell_type": "markdown",
      "source": [
        "\n",
        "\n",
        "---\n",
        "\n"
      ],
      "metadata": {
        "id": "1E9AQ9SRWbCa"
      }
    },
    {
      "cell_type": "markdown",
      "source": [
        "***3.DELETE***\n",
        "\n",
        "SQL DELETE is a basic SQL operation used to ***delete data in a database.*** SQL DELETE is an important part of database management DELETE can be used to selectively remove records from a database table based on certain conditions. This SQL DELETE operation is important for database size management, data accuracy, and integrity.\n",
        "\n",
        "Syntax: `DELETE FROM table_name\n",
        "WHERE some_condition;`"
      ],
      "metadata": {
        "id": "LlMLGHs9WcWH"
      }
    },
    {
      "cell_type": "code",
      "source": [
        "DELETE FROM GFG_Employees\n",
        "WHERE department = 'Development';"
      ],
      "metadata": {
        "id": "qBISbr9IWvv9"
      },
      "execution_count": null,
      "outputs": []
    },
    {
      "cell_type": "markdown",
      "source": [
        "\n",
        "\n",
        "---\n",
        "\n"
      ],
      "metadata": {
        "id": "WL-dc_pKW0o1"
      }
    },
    {
      "cell_type": "markdown",
      "source": [
        "***DTL***\n",
        "\n",
        "DTL-Data Transaction Language\n"
      ],
      "metadata": {
        "id": "RdPaT6SxW1-3"
      }
    },
    {
      "cell_type": "markdown",
      "source": [
        "***1.SAVEPOINT***\n",
        "\n",
        "SAVEPOINT ***creates points within the groups of transactions in which to ROLLBACK.***\n",
        "\n",
        "A SAVEPOINT is a point in a transaction in which you can roll the transaction back to a certain point without rolling back the entire transaction.\n",
        "\n",
        "Syntax: `SAVEPOINT SAVEPOINT_NAME;`\n"
      ],
      "metadata": {
        "id": "rdJeU4xVXYiK"
      }
    },
    {
      "cell_type": "code",
      "source": [
        "SAVEPOINT SP1;\n",
        "//Savepoint created.\n",
        "DELETE FROM Student WHERE AGE = 20;\n",
        "//deleted\n",
        "SAVEPOINT SP2;\n",
        "//Savepoint created."
      ],
      "metadata": {
        "id": "TCITYvlcYDAI"
      },
      "execution_count": null,
      "outputs": []
    },
    {
      "cell_type": "markdown",
      "source": [
        "\n",
        "\n",
        "---\n",
        "\n"
      ],
      "metadata": {
        "id": "4PcrIim-YF7X"
      }
    },
    {
      "cell_type": "markdown",
      "source": [
        "***2.ROLLBACK***\n",
        "\n",
        "If any error occurs with any of the SQL grouped statements, ***all changes need to be aborted.*** The process of reversing changes is called rollback. This command can only be used to undo transactions since the last COMMIT or ROLLBACK command was issued.\n",
        "\n",
        "Syntax: `ROLLBACK;`"
      ],
      "metadata": {
        "id": "LevYuJEeYJQz"
      }
    },
    {
      "cell_type": "code",
      "source": [
        "DELETE FROM Student WHERE AGE = 20;\n",
        "ROLLBACK;"
      ],
      "metadata": {
        "id": "GiTeLKZRYpQM"
      },
      "execution_count": null,
      "outputs": []
    },
    {
      "cell_type": "markdown",
      "source": [
        "\n",
        "\n",
        "---\n",
        "\n"
      ],
      "metadata": {
        "id": "1OKHBNosZZ4P"
      }
    },
    {
      "cell_type": "markdown",
      "source": [
        "***3.COMMIT***\n",
        "\n",
        "COMMIT in SQL is a transaction control language that is used to ***permanently save the changes done in the transaction in tables/databases.*** The database cannot regain its previous state after its execution of commit.\n",
        "\n"
      ],
      "metadata": {
        "id": "Vrce3fJwYuxQ"
      }
    },
    {
      "cell_type": "code",
      "source": [
        "sql>\n",
        "SELECT *\n",
        "FROM Staff\n",
        "WHERE Allowance = 400;\n",
        "\n",
        "sql> COMMIT;"
      ],
      "metadata": {
        "id": "dodGbJKXZUki"
      },
      "execution_count": null,
      "outputs": []
    },
    {
      "cell_type": "markdown",
      "source": [
        "\n",
        "\n",
        "---\n",
        "\n"
      ],
      "metadata": {
        "id": "J3__Nj85ZdZZ"
      }
    },
    {
      "cell_type": "markdown",
      "source": [
        "###AGGREGATE FUNCTIONS###\n",
        "\n",
        "1.COUNT\n",
        "\n",
        "2.SUM\n",
        "\n",
        "3.AVERAGE\n",
        "\n",
        "4.MIN\n",
        "\n",
        "5.MAX\n",
        "\n"
      ],
      "metadata": {
        "id": "d1y2hTl7Ze6j"
      }
    },
    {
      "cell_type": "markdown",
      "source": [
        "***1.COUNT***\n",
        "\n",
        "The COUNT() function returns the ***number of rows*** that matches a specified criterion.\n",
        "\n",
        "Syntax: `SELECT COUNT(column_name)\n",
        "FROM table_name\n",
        "WHERE condition;`"
      ],
      "metadata": {
        "id": "9yR-n5sqbXKS"
      }
    },
    {
      "cell_type": "code",
      "source": [
        "SELECT COUNT(*)\n",
        "FROM Products;"
      ],
      "metadata": {
        "id": "VfuEUDxIbsO4"
      },
      "execution_count": null,
      "outputs": []
    },
    {
      "cell_type": "markdown",
      "source": [
        "\n",
        "\n",
        "---\n",
        "\n"
      ],
      "metadata": {
        "id": "kymvD3q3hfzb"
      }
    },
    {
      "cell_type": "markdown",
      "source": [
        "***2.SUM***\n",
        "\n",
        "The SUM() function returns ***the total sum of a numeric column.***\n",
        "\n",
        "Syntax: `SELECT SUM(column_name)\n",
        "FROM table_name\n",
        "WHERE condition;`"
      ],
      "metadata": {
        "id": "RT3XFNrthg9z"
      }
    },
    {
      "cell_type": "code",
      "source": [
        "SELECT SUM(Quantity)\n",
        "FROM OrderDetails;"
      ],
      "metadata": {
        "id": "Oes6sW0ghyXc"
      },
      "execution_count": null,
      "outputs": []
    },
    {
      "cell_type": "markdown",
      "source": [
        "\n",
        "\n",
        "---\n",
        "\n"
      ],
      "metadata": {
        "id": "uGaitPtxh2ZW"
      }
    },
    {
      "cell_type": "markdown",
      "source": [
        "***3.AVERAGE***\n",
        "\n",
        "The AVG() function returns the ***average value of a numeric column.***\n",
        "\n",
        "Syntax: `SELECT AVG(column_name)\n",
        "FROM table_name\n",
        "WHERE condition;`"
      ],
      "metadata": {
        "id": "NudA32hfh3jI"
      }
    },
    {
      "cell_type": "code",
      "source": [
        "SELECT AVG(Price)\n",
        "FROM Products;"
      ],
      "metadata": {
        "id": "zZvlS1y9iZ1p"
      },
      "execution_count": null,
      "outputs": []
    },
    {
      "cell_type": "markdown",
      "source": [
        "\n",
        "\n",
        "---\n",
        "\n"
      ],
      "metadata": {
        "id": "tCq3t5nSifF6"
      }
    },
    {
      "cell_type": "markdown",
      "source": [
        "***4.MIN***\n",
        "\n",
        "The MIN() function returns the ***smallest value of the selected column.***\n",
        "\n",
        "Syntax:`SELECT MIN(column_name)\n",
        "FROM table_name\n",
        "WHERE condition;`"
      ],
      "metadata": {
        "id": "R3cEloZfigFv"
      }
    },
    {
      "cell_type": "code",
      "source": [
        "SELECT MIN(Price)\n",
        "FROM Products;"
      ],
      "metadata": {
        "id": "lNobmYZziuMz"
      },
      "execution_count": null,
      "outputs": []
    },
    {
      "cell_type": "markdown",
      "source": [
        "\n",
        "\n",
        "---\n",
        "\n"
      ],
      "metadata": {
        "id": "Qxa2Wj0DixuE"
      }
    },
    {
      "cell_type": "markdown",
      "source": [
        "***5.MAX***\n",
        "\n",
        "The MAX() function returns the ***largest value of the selected column.***\n",
        "\n",
        "Syntax:`SELECT MAX(column_name)\n",
        "FROM table_name\n",
        "WHERE condition;`"
      ],
      "metadata": {
        "id": "BEBF5gvviyvu"
      }
    },
    {
      "cell_type": "code",
      "source": [
        "SELECT MAX(Price)\n",
        "FROM Products;"
      ],
      "metadata": {
        "id": "7U_PrbLujAyh"
      },
      "execution_count": null,
      "outputs": []
    },
    {
      "cell_type": "markdown",
      "source": [
        "\n",
        "\n",
        "---\n",
        "\n"
      ],
      "metadata": {
        "id": "gJTgi9u3jF3M"
      }
    },
    {
      "cell_type": "markdown",
      "source": [
        "###DATA CONSTRAINTS###\n",
        "\n",
        "Constraints are used to ***limit the type of data that can go into a table.*** This ensures the accuracy and reliability of the data in the table. If there is any violation between the constraint and the data action, the action is aborted.\n",
        "\n",
        "Constraints can be ***column level or table level.*** Column level constraints apply to a column, and table level constraints apply to the whole table.\n",
        "\n",
        "***NOT NULL*** - Ensures that a column cannot have a NULL value\n",
        "\n",
        "***UNIQUE*** - Ensures that all values in a column are different\n",
        "\n",
        "***PRIMARY KEY*** - A combination of a NOT NULL and UNIQUE. Uniquely identifies each row in a table\n",
        "\n",
        "***FOREIGN KEY*** - Prevents actions that would destroy links between tables\n",
        "\n",
        "***CHECK*** - Ensures that the values in a column satisfies a specific condition\n",
        "\n",
        "***DEFAULT*** - Sets a default value for a column if no value is specified\n",
        "\n",
        "***CREATE INDEX*** - Used to create and retrieve data from the database very quickly"
      ],
      "metadata": {
        "id": "vtOcGYD-jHHs"
      }
    },
    {
      "cell_type": "markdown",
      "source": [
        "***1.NOT NULL***\n",
        "\n",
        "The NOT NULL constraint ***enforces a column to NOT accept NULL values.***\n",
        "\n",
        "This enforces a field to always contain a value, which means that you cannot insert a new record, or update a record without adding a value to this field.\n",
        "\n"
      ],
      "metadata": {
        "id": "NDAskRh8j4vg"
      }
    },
    {
      "cell_type": "code",
      "source": [
        "CREATE TABLE Persons (\n",
        "    ID int NOT NULL,\n",
        "    LastName varchar(255) NOT NULL,\n",
        "    FirstName varchar(255) NOT NULL,\n",
        "    Age int\n",
        ");"
      ],
      "metadata": {
        "id": "niqA7ToNkGYD"
      },
      "execution_count": null,
      "outputs": []
    },
    {
      "cell_type": "markdown",
      "source": [
        "\n",
        "\n",
        "---\n",
        "\n"
      ],
      "metadata": {
        "id": "akHcvdt8kJK2"
      }
    },
    {
      "cell_type": "markdown",
      "source": [
        "***2.UNIQUE***\n",
        "\n",
        "The UNIQUE constraint ensures that ***all values in a column are different.***\n",
        "\n",
        "Both the UNIQUE and PRIMARY KEY constraints provide a guarantee for ***uniqueness for a column or set of columns.***\n",
        "\n",
        "A PRIMARY KEY constraint automatically has a UNIQUE constraint.\n",
        "\n",
        "However, you can have many UNIQUE constraints per table, but only one PRIMARY KEY constraint per table."
      ],
      "metadata": {
        "id": "7ArR3BPIkKaZ"
      }
    },
    {
      "cell_type": "code",
      "source": [
        "CREATE TABLE Persons (\n",
        "    ID int NOT NULL UNIQUE,\n",
        "    LastName varchar(255) NOT NULL,\n",
        "    FirstName varchar(255),\n",
        "    Age int\n",
        ");"
      ],
      "metadata": {
        "id": "c5mzLUdakjRd"
      },
      "execution_count": null,
      "outputs": []
    },
    {
      "cell_type": "markdown",
      "source": [
        "\n",
        "\n",
        "---\n",
        "\n"
      ],
      "metadata": {
        "id": "QNpOcynTkmrY"
      }
    },
    {
      "cell_type": "markdown",
      "source": [
        "***3.PRIMARY KEY***\n",
        "\n",
        "The PRIMARY KEY constraint ***uniquely identifies each record in a table.***\n",
        "\n",
        "Primary keys must contain UNIQUE values, and cannot contain NULL values.\n",
        "\n",
        "***A table can have only ONE primary key; and in the table, this primary key can consist of single or multiple columns (fields).***\n",
        "\n"
      ],
      "metadata": {
        "id": "66jEkerMkn3s"
      }
    },
    {
      "cell_type": "code",
      "source": [
        "CREATE TABLE Persons (\n",
        "    ID int NOT NULL,\n",
        "    LastName varchar(255) NOT NULL,\n",
        "    FirstName varchar(255),\n",
        "    Age int,\n",
        "    PRIMARY KEY (ID)\n",
        ");"
      ],
      "metadata": {
        "id": "Te9oAv80lIAE"
      },
      "execution_count": null,
      "outputs": []
    },
    {
      "cell_type": "markdown",
      "source": [
        "\n",
        "\n",
        "---\n",
        "\n"
      ],
      "metadata": {
        "id": "pzg52el0lLV3"
      }
    },
    {
      "cell_type": "markdown",
      "source": [
        "***4.FOREIGN KEY***\n",
        "\n",
        "The FOREIGN KEY constraint is used to ***prevent actions that would destroy links between tables.***\n",
        "\n",
        "***A FOREIGN KEY is a field (or collection of fields) in one table, that refers to the PRIMARY KEY in another table.***\n",
        "\n",
        "The table with the foreign key is called the child table, and the table with the primary key is called the referenced or parent table."
      ],
      "metadata": {
        "id": "22esBJqelMd1"
      }
    },
    {
      "cell_type": "code",
      "source": [
        "CREATE TABLE Orders (\n",
        "    OrderID int NOT NULL,\n",
        "    OrderNumber int NOT NULL,\n",
        "    PersonID int,\n",
        "    PRIMARY KEY (OrderID),\n",
        "    FOREIGN KEY (PersonID) REFERENCES Persons(PersonID)\n",
        ");"
      ],
      "metadata": {
        "id": "mEJTC3aJlYxD"
      },
      "execution_count": null,
      "outputs": []
    },
    {
      "cell_type": "markdown",
      "source": [
        "\n",
        "\n",
        "---\n",
        "\n"
      ],
      "metadata": {
        "id": "wgoYSMpMldGa"
      }
    },
    {
      "cell_type": "markdown",
      "source": [
        "***5.CHECK***\n",
        "\n",
        "The CHECK constraint is used to ***limit the value range that can be placed in a column.***\n",
        "\n",
        "If you define a CHECK constraint on a column it will ***allow only certain values for this column.***\n",
        "\n",
        "If you define a CHECK constraint on a table it can limit the values in certain columns based on values in other columns in the row."
      ],
      "metadata": {
        "id": "C1Rk-b7QleLg"
      }
    },
    {
      "cell_type": "code",
      "source": [
        "CREATE TABLE Persons (\n",
        "    ID int NOT NULL,\n",
        "    LastName varchar(255) NOT NULL,\n",
        "    FirstName varchar(255),\n",
        "    Age int,\n",
        "    CHECK (Age>=18)\n",
        ");"
      ],
      "metadata": {
        "id": "mberXy4qluZP"
      },
      "execution_count": null,
      "outputs": []
    },
    {
      "cell_type": "markdown",
      "source": [
        "###JOIN###\n",
        "\n",
        "A JOIN clause is used to ***combine rows from two or more tables***, based on a related column between them.\n",
        "\n",
        "Here are the different types of the JOINs in SQL:\n",
        "\n",
        "***(INNER) JOIN:*** Returns records that have matching values in both tables\n",
        "\n",
        "***LEFT (OUTER) JOIN:*** Returns all records from the left table, and the matched records from the right table\n",
        "\n",
        "***RIGHT (OUTER) JOIN:*** Returns all records from the right table, and the matched records from the left table\n",
        "\n",
        "***FULL (OUTER) JOIN:*** Returns all records when there is a match in either left or right table"
      ],
      "metadata": {
        "id": "2lyUOSmKl1hr"
      }
    },
    {
      "cell_type": "markdown",
      "source": [
        "***1.INNER JOIN***\n",
        "\n",
        "The INNER JOIN keyword selects records that have ***matching values in both tables.***\n",
        "\n",
        "Syntax: `SELECT column_name(s)\n",
        "FROM table1\n",
        "INNER JOIN table2\n",
        "ON table1.column_name = table2.column_name;`"
      ],
      "metadata": {
        "id": "1AEuDk-EmYoz"
      }
    },
    {
      "cell_type": "code",
      "source": [
        "SELECT Orders.OrderID, Customers.CustomerName\n",
        "FROM Orders\n",
        "INNER JOIN Customers ON Orders.CustomerID = Customers.CustomerID;"
      ],
      "metadata": {
        "id": "XR0Pbs_CmhoR"
      },
      "execution_count": null,
      "outputs": []
    },
    {
      "cell_type": "markdown",
      "source": [
        "\n",
        "\n",
        "---\n",
        "\n"
      ],
      "metadata": {
        "id": "4ah0aqykmwd9"
      }
    },
    {
      "cell_type": "markdown",
      "source": [
        "***2.LEFT JOIN***\n",
        "\n",
        "The LEFT JOIN keyword ***returns all records from the left table (table1), and the matching records from the right table (table2).*** The result is 0 records from the right side, if there is no match.\n",
        "\n",
        "Syntax: `SELECT column_name(s)\n",
        "FROM table1\n",
        "LEFT JOIN table2\n",
        "ON table1.column_name = table2.column_name;`"
      ],
      "metadata": {
        "id": "RgrNnPbamxSq"
      }
    },
    {
      "cell_type": "code",
      "source": [
        "SELECT Customers.CustomerName, Orders.OrderID\n",
        "FROM Customers\n",
        "LEFT JOIN Orders ON Customers.CustomerID = Orders.CustomerID\n",
        "ORDER BY Customers.CustomerName;"
      ],
      "metadata": {
        "id": "c5Th-YPGnC_B"
      },
      "execution_count": null,
      "outputs": []
    },
    {
      "cell_type": "markdown",
      "source": [
        "\n",
        "\n",
        "---\n",
        "\n"
      ],
      "metadata": {
        "id": "uXdEOVM2nGtL"
      }
    },
    {
      "cell_type": "markdown",
      "source": [
        "***3.RIGHT JOIN***\n",
        "\n",
        "The RIGHT JOIN keyword ***returns all records from the right table (table2), and the matching records from the left table (table1).*** The result is 0 records from the left side, if there is no match.\n",
        "\n",
        "Syntax:`SELECT column_name(s)\n",
        "FROM table1\n",
        "RIGHT JOIN table2\n",
        "ON table1.column_name = table2.column_name;`"
      ],
      "metadata": {
        "id": "_YGZFewonH64"
      }
    },
    {
      "cell_type": "code",
      "source": [
        "SELECT Orders.OrderID, Employees.LastName, Employees.FirstName\n",
        "FROM Orders\n",
        "RIGHT JOIN Employees ON Orders.EmployeeID = Employees.EmployeeID\n",
        "ORDER BY Orders.OrderID;"
      ],
      "metadata": {
        "id": "6ploNZztnaWi"
      },
      "execution_count": null,
      "outputs": []
    },
    {
      "cell_type": "markdown",
      "source": [
        "\n",
        "\n",
        "---\n",
        "\n"
      ],
      "metadata": {
        "id": "_wd4fwEtnd76"
      }
    },
    {
      "cell_type": "markdown",
      "source": [
        "***4.FULL JOIN***\n",
        "\n",
        "The FULL OUTER JOIN keyword ***returns all records when there is a match in left (table1) or right (table2) table records.***\n",
        "\n",
        "Tip: FULL OUTER JOIN and FULL JOIN are the same.\n",
        "\n",
        "Syntax:`SELECT column_name(s)\n",
        "FROM table1\n",
        "FULL OUTER JOIN table2\n",
        "ON table1.column_name = table2.column_name\n",
        "WHERE condition;`"
      ],
      "metadata": {
        "id": "5tu-TPiHne4q"
      }
    },
    {
      "cell_type": "code",
      "source": [
        "SELECT Customers.CustomerName, Orders.OrderID\n",
        "FROM Customers\n",
        "FULL OUTER JOIN Orders ON Customers.CustomerID=Orders.CustomerID\n",
        "ORDER BY Customers.CustomerName;"
      ],
      "metadata": {
        "id": "Sp9tX_CKnyvy"
      },
      "execution_count": null,
      "outputs": []
    },
    {
      "cell_type": "markdown",
      "source": [
        "\n",
        "\n",
        "---\n",
        "\n"
      ],
      "metadata": {
        "id": "-JGSphvnn3OR"
      }
    },
    {
      "cell_type": "markdown",
      "source": [
        "***5.SELF JOIN***\n",
        "\n",
        "A self join is a ***regular join, but the table is joined with itself.***\n",
        "\n",
        "Syntax:`SELECT column_name(s)\n",
        "FROM table1 T1, table1 T2\n",
        "WHERE condition;`"
      ],
      "metadata": {
        "id": "oOzM5LbQn4Ik"
      }
    },
    {
      "cell_type": "code",
      "source": [
        "SELECT A.CustomerName AS CustomerName1, B.CustomerName AS CustomerName2, A.City\n",
        "FROM Customers A, Customers B\n",
        "WHERE A.CustomerID <> B.CustomerID\n",
        "AND A.City = B.City\n",
        "ORDER BY A.City;"
      ],
      "metadata": {
        "id": "_MQchChHoLdn"
      },
      "execution_count": null,
      "outputs": []
    },
    {
      "cell_type": "markdown",
      "source": [
        "\n",
        "\n",
        "---\n",
        "\n"
      ],
      "metadata": {
        "id": "1tfpnMzPoOvc"
      }
    },
    {
      "cell_type": "markdown",
      "source": [
        "###STRING FUNCTIONS###\n",
        "\n",
        "***1.CONCAT():*** This function is used to ***add two words or strings.***\n",
        "\n",
        "Syntax: `SELECT 'Geeks' || ' ' || 'forGeeks' FROM dual;`\n",
        "\n",
        "Output: ‘GeeksforGeeks’\n",
        "\n",
        "***2.LENGTH():*** This function is used to find the ***length of a word.**\n",
        "\n",
        "Syntax: `LENGTH('GeeksForGeeks');`\n",
        "\n",
        "Output: 13\n",
        "\n",
        "***3.SUBSTR():*** This function is used to ***find a sub string from the a string from the given position.***\n",
        "\n",
        "Syntax:`SUBSTR('geeksforgeeks', 1, 5);`\n",
        "\n",
        "Output: ‘geeks’\n",
        "\n",
        "***4.REPLACE():*** This function is used to cut the given string by ***removing the given sub string.***\n",
        "\n",
        "Syntax: `REPLACE('123geeks123', '123');`\n",
        "\n",
        "Output: geeks\n",
        "\n",
        "***5.UCASE():*** This function is used to make the string in ***upper case.***\n",
        "\n",
        "Syntax: `UCASE (\"GeeksForGeeks\");`\n",
        "\n",
        "Output:\n",
        "GEEKSFORGEEKS\n",
        "\n",
        "***6.LOWER():*** This function is used to convert the upper case string into lower case.\n",
        "\n",
        "Syntax: `SELECT LOWER('GEEKSFORGEEKS.ORG');`\n",
        "\n",
        "Output: geeksforgeeks.org"
      ],
      "metadata": {
        "id": "GQtv8kg5oPzh"
      }
    },
    {
      "cell_type": "markdown",
      "source": [
        "\n",
        "\n",
        "---\n",
        "\n"
      ],
      "metadata": {
        "id": "V58DEPdHqTn7"
      }
    },
    {
      "cell_type": "markdown",
      "source": [
        "###NUMERIC FUNCTIONS###\n",
        "\n",
        "\n",
        "***1.ABS():*** It returns the ***absolute value of a number.***\n",
        "\n",
        "Syntax: `SELECT ABS(-243.5);`\n",
        "\n",
        "Output: 243.5\n",
        "\n",
        "***2.FLOOR():*** It returns the largest integer value that is less than or equal to a number.\n",
        "\n",
        "Syntax: `SELECT FLOOR(25.75);`\n",
        "\n",
        "Output: 25\n",
        "\n",
        "***3.MOD():*** It returns the ***remainder*** (aka. modulus) of n divided by m.\n",
        "\n",
        "Syntax: `SELECT MOD(18, 4);`\n",
        "\n",
        "Output: 2\n",
        "\n",
        "***4.ROUND(): It returns a number *** rounded to a certain number of decimal places.***\n",
        "\n",
        "Syntax: `SELECT ROUND(5.553);`\n",
        "\n",
        "Output: 6\n",
        "\n",
        "***5.CEILING():*** It returns the ***smallest integer value*** that is greater than or equal to a number.\n",
        "\n",
        "Syntax: `SELECT CEILING(25.75);`\n",
        "\n",
        "Output: 26"
      ],
      "metadata": {
        "id": "OhtV4_QpqUjr"
      }
    },
    {
      "cell_type": "markdown",
      "source": [
        "\n",
        "\n",
        "---\n",
        "\n"
      ],
      "metadata": {
        "id": "bAql3Bhgr4Yj"
      }
    },
    {
      "cell_type": "markdown",
      "source": [
        "###VIEWS###\n",
        "\n",
        "\n",
        "***A view contains rows and columns, just like a real table.*** The fields in a view are fields from one or more real tables in the database.\n",
        "\n",
        "You can add SQL statements and functions to a view and present the data as if the data were coming from one single table.\n",
        "\n",
        "A view is created with the CREATE VIEW statement.\n",
        "\n",
        "Syntax: `CREATE VIEW view_name AS\n",
        "SELECT column1, column2, ...\n",
        "FROM table_name\n",
        "WHERE condition;`\n",
        "\n"
      ],
      "metadata": {
        "id": "OQ6kla0Cr52k"
      }
    },
    {
      "cell_type": "code",
      "source": [
        "CREATE VIEW [Brazil Customers] AS\n",
        "SELECT CustomerName, ContactName\n",
        "FROM Customers\n",
        "WHERE Country = 'Brazil';"
      ],
      "metadata": {
        "id": "taSANoy6srIf"
      },
      "execution_count": null,
      "outputs": []
    },
    {
      "cell_type": "markdown",
      "source": [
        "\n",
        "\n",
        "---\n",
        "\n"
      ],
      "metadata": {
        "id": "6zjQgZO7ssO5"
      }
    },
    {
      "cell_type": "markdown",
      "source": [
        "###DATE AND TIME###\n",
        "\n",
        "***1.DATE***\n",
        "\n",
        "The DATE() function ***extracts the date part from a datetime expression.***\n",
        "\n",
        "Syntax:`DATE(expression)`\n",
        "\n",
        "Example: `SELECT DATE(\"2017-06-15 09:34:21\");`\n",
        "\n",
        "Output: 2017-06-15\n",
        "\n",
        "***2.TIME***\n",
        "\n",
        "The TIME() function ***extracts the time part from a given time/datetime.***\n",
        "\n",
        "Note: This function returns \"00:00:00\" if expression is not a datetime/time, or NULL if expression is NULL.\n",
        "\n",
        "Syntax:`TIME(expression)`\n",
        "\n",
        "Example: `SELECT TIME(\"2017-08-15 19:30:10\");`\n",
        "\n",
        "Output: 19:30:10\n",
        "\n",
        "***3.DATE_ADD***\n",
        "\n",
        "The DATE_ADD() function ***adds a time/date interval to a date and then returns the date.***\n",
        "\n",
        "Syntax: `DATE_ADD(date, INTERVAL value addunit)`\n",
        "\n",
        "Example: `SELECT DATE_ADD(\"2017-06-15\", INTERVAL 10 DAY);`\n",
        "\n",
        "Output: 2017-06-25\n",
        "\n",
        "***4.TIMESTAMP***\n",
        "\n",
        "The TIMESTAMP() function ***returns a datetime value based on a date or datetime value.***\n",
        "\n",
        "Note: If there are specified two arguments with this function, it first adds the second argument to the first, and then returns a datetime value.\n",
        "\n",
        "Syntax:`TIMESTAMP(expression, time)`\n",
        "\n",
        "Example: `SELECT TIMESTAMP(\"2017-07-23\",  \"13:10:11\");`\n",
        "\n",
        "Output: 2017-07-23 13:10:11\n",
        "\n",
        "\n"
      ],
      "metadata": {
        "id": "vOZCPCRFstDM"
      }
    },
    {
      "cell_type": "markdown",
      "source": [
        "\n",
        "\n",
        "---\n",
        "\n"
      ],
      "metadata": {
        "id": "TRveIbr0vewy"
      }
    },
    {
      "cell_type": "markdown",
      "source": [
        "###GROUP BY###\n",
        "\n",
        "The GROUP BY statement groups rows that have the ***same values into summary rows, like \"find the number of customers in each country\".***\n",
        "\n",
        "The GROUP BY statement is often used with aggregate functions (COUNT(), MAX(), MIN(), SUM(), AVG()) to group the result-set by one or more columns.\n",
        "\n",
        "Syntax: `SELECT column_name(s)\n",
        "FROM table_name\n",
        "WHERE condition\n",
        "GROUP BY column_name(s)\n",
        "ORDER BY column_name(s);`"
      ],
      "metadata": {
        "id": "oQ-2fgJ9vfv_"
      }
    },
    {
      "cell_type": "code",
      "source": [
        "SELECT COUNT(CustomerID), Country\n",
        "FROM Customers\n",
        "GROUP BY Country\n",
        "ORDER BY COUNT(CustomerID) DESC;"
      ],
      "metadata": {
        "id": "22-ueqtQwGZh"
      },
      "execution_count": null,
      "outputs": []
    },
    {
      "cell_type": "markdown",
      "source": [
        "\n",
        "\n",
        "---\n",
        "\n"
      ],
      "metadata": {
        "id": "DCro9bS3wLEJ"
      }
    },
    {
      "cell_type": "markdown",
      "source": [
        "###HAVING###\n",
        "\n",
        "The HAVING clause was added to SQL because the ***WHERE keyword cannot be used with aggregate functions.***\n",
        "\n",
        "Syntax: `SELECT column_name(s)\n",
        "FROM table_name\n",
        "WHERE condition\n",
        "GROUP BY column_name(s)\n",
        "HAVING condition\n",
        "ORDER BY column_name(s);`"
      ],
      "metadata": {
        "id": "Xms1fRlcwMZH"
      }
    },
    {
      "cell_type": "code",
      "source": [
        "SELECT COUNT(CustomerID), Country\n",
        "FROM Customers\n",
        "GROUP BY Country\n",
        "HAVING COUNT(CustomerID) > 5\n",
        "ORDER BY COUNT(CustomerID) DESC;"
      ],
      "metadata": {
        "id": "VWOZhemewckL"
      },
      "execution_count": null,
      "outputs": []
    },
    {
      "cell_type": "markdown",
      "source": [
        "\n",
        "\n",
        "---\n",
        "\n"
      ],
      "metadata": {
        "id": "SimXGnprxP-k"
      }
    },
    {
      "cell_type": "markdown",
      "source": [
        "###PIVOT AND UNPIVOT###\n",
        "\n",
        "In SQL, Pivot and Unpivot are relational operators that are used to ***transform one table into another in order to achieve more simpler view of table.***\n",
        "\n",
        " Conventionally we can say that Pivot operator converts the rows data of the table into the column data. The Unpivot operator does the opposite that is it transform the column based data into rows.\n",
        "\n",
        " ***PIVOT***\n",
        "\n",
        " Syntax: `SELECT (ColumnNames)\n",
        "FROM (TableName)\n",
        "PIVOT\n",
        " (\n",
        "   AggregateFunction(ColumnToBeAggregated)\n",
        "   FOR PivotColumn IN (PivotColumnValues)\n",
        " ) AS (Alias) //Alias is a temporary name for a table`\n",
        "\n",
        " ***UNPIVOT***\n",
        "\n",
        " Syntax: `SELECT (ColumnNames)\n",
        "FROM (TableName)\n",
        "UNPIVOT\n",
        " (\n",
        "   AggregateFunction(ColumnToBeAggregated)\n",
        "   FOR PivotColumn IN (PivotColumnValues)\n",
        " ) AS (Alias)`"
      ],
      "metadata": {
        "id": "crE9-eK4xQ7j"
      }
    },
    {
      "cell_type": "markdown",
      "source": [
        "\n",
        "\n",
        "---\n",
        "\n"
      ],
      "metadata": {
        "id": "3HT3bRJ6x9OM"
      }
    },
    {
      "cell_type": "markdown",
      "source": [
        "###DYNAMIC SQL###\n",
        "\n",
        "Dynamic SQL is a programming technique that could be ***used to write SQL queries during runtime.*** Dynamic SQL could be used to create general and flexible SQL queries.\n",
        "\n",
        "Syntax: `'SELECT statement';`\n",
        "\n",
        "To run a dynamic SQL statement, run the stored procedure sp_executesql as shown below :\n",
        "\n",
        "`EXEC sp_executesql N'SELECT statement';`"
      ],
      "metadata": {
        "id": "PALT-Omax-ZO"
      }
    },
    {
      "cell_type": "markdown",
      "source": [
        "\n",
        "\n",
        "---\n",
        "\n"
      ],
      "metadata": {
        "id": "9EIBxBNXybpv"
      }
    },
    {
      "cell_type": "markdown",
      "source": [
        "###RECURSIVE QUERY###\n",
        "\n",
        "A recursive query is one that is defined by a ***Union All with an initialization fullselect that seeds the recursion.*** The iterative fullselect contains a direct reference to itself in the FROM clause. There are additional restrictions as to what can be specified in the definition of a recursive query.\n",
        "\n"
      ],
      "metadata": {
        "id": "9pC_gTedyc-G"
      }
    }
  ]
}